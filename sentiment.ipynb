{
 "cells": [
  {
   "attachments": {},
   "cell_type": "markdown",
   "metadata": {},
   "source": [
    "## Sentiment Analysis with BERT"
   ]
  },
  {
   "cell_type": "code",
   "execution_count": 37,
   "metadata": {},
   "outputs": [],
   "source": [
    "from bs4 import BeautifulSoup\n",
    "from torch import argmax\n",
    "from tqdm import tqdm\n",
    "from transformers import AutoTokenizer, AutoModelForSequenceClassification\n",
    "import requests"
   ]
  },
  {
   "attachments": {},
   "cell_type": "markdown",
   "metadata": {},
   "source": [
    "### Load model"
   ]
  },
  {
   "cell_type": "code",
   "execution_count": 3,
   "metadata": {},
   "outputs": [],
   "source": [
    "model_name = \"nlptown/bert-base-multilingual-uncased-sentiment\"\n",
    "tokenizer = AutoTokenizer.from_pretrained(model_name)\n",
    "model = AutoModelForSequenceClassification.from_pretrained(model_name)"
   ]
  },
  {
   "attachments": {},
   "cell_type": "markdown",
   "metadata": {},
   "source": [
    "### Web scraping"
   ]
  },
  {
   "attachments": {},
   "cell_type": "markdown",
   "metadata": {},
   "source": [
    "#### Define scraper"
   ]
  },
  {
   "cell_type": "code",
   "execution_count": 4,
   "metadata": {},
   "outputs": [],
   "source": [
    "def getReviews(link):\n",
    "    webpage = requests.get(link).text\n",
    "    soup = BeautifulSoup(webpage, 'html.parser')\n",
    "    return [i.text for i in soup.find_all('p', 'comment__09f24__gu0rG css-qgunke')]\n",
    "    "
   ]
  },
  {
   "attachments": {},
   "cell_type": "markdown",
   "metadata": {},
   "source": [
    "### Intial Request"
   ]
  },
  {
   "cell_type": "code",
   "execution_count": 5,
   "metadata": {},
   "outputs": [],
   "source": [
    "reviews = []\n",
    "intial_link = \"https://www.yelp.com/biz/ippudo-ny-new-york-7\"\n",
    "reviews.extend(getReviews(intial_link))"
   ]
  },
  {
   "attachments": {},
   "cell_type": "markdown",
   "metadata": {},
   "source": [
    "#### Crawling through remaining pages"
   ]
  },
  {
   "cell_type": "code",
   "execution_count": 6,
   "metadata": {},
   "outputs": [],
   "source": [
    "for i in tqdm(range(10, 100, 10)):\n",
    "    later_link = f\"https://www.yelp.com/biz/ippudo-ny-new-york-7?start={i}\"\n",
    "    reviews.extend(getReviews(later_link)) "
   ]
  },
  {
   "attachments": {},
   "cell_type": "markdown",
   "metadata": {},
   "source": [
    "### Sentiment Score"
   ]
  },
  {
   "cell_type": "code",
   "execution_count": 41,
   "metadata": {},
   "outputs": [],
   "source": [
    "def sentiment_score(review):\n",
    "    tokens = tokenizer.encode(review, return_tensors='pt')\n",
    "    return argmax(model(tokens).logits[0])"
   ]
  },
  {
   "cell_type": "code",
   "execution_count": 8,
   "metadata": {},
   "outputs": [],
   "source": [
    "sentiment = []\n",
    "labels = {\n",
    "    0 : 'Bad',\n",
    "    1 : 'Poor',\n",
    "    2 : 'Average',\n",
    "    3 : 'Great',\n",
    "    4 : 'Excellent'\n",
    "}\n",
    "for i in reviews:\n",
    "    sentiment.append(labels[sentiment_score(i[:512])]) # maximum tokens accpeted by the bert model"
   ]
  },
  {
   "attachments": {},
   "cell_type": "markdown",
   "metadata": {},
   "source": [
    "### Results"
   ]
  },
  {
   "cell_type": "code",
   "execution_count": 15,
   "metadata": {},
   "outputs": [
    {
     "data": {
      "text/plain": [
       "{0: 'Excellent',\n",
       " 1: 'Excellent',\n",
       " 2: 'Great',\n",
       " 3: 'Bad',\n",
       " 4: 'Great',\n",
       " 5: 'Great',\n",
       " 6: 'Excellent',\n",
       " 7: 'Great',\n",
       " 8: 'Excellent',\n",
       " 9: 'Great',\n",
       " 10: 'Great',\n",
       " 11: 'Great',\n",
       " 12: 'Average',\n",
       " 13: 'Great',\n",
       " 14: 'Excellent',\n",
       " 15: 'Great',\n",
       " 16: 'Excellent',\n",
       " 17: 'Excellent',\n",
       " 18: 'Excellent',\n",
       " 19: 'Excellent',\n",
       " 20: 'Excellent',\n",
       " 21: 'Excellent',\n",
       " 22: 'Excellent',\n",
       " 23: 'Poor',\n",
       " 24: 'Great',\n",
       " 25: 'Average',\n",
       " 26: 'Excellent',\n",
       " 27: 'Excellent',\n",
       " 28: 'Poor',\n",
       " 29: 'Excellent',\n",
       " 30: 'Great',\n",
       " 31: 'Excellent',\n",
       " 32: 'Excellent',\n",
       " 33: 'Great',\n",
       " 34: 'Excellent',\n",
       " 35: 'Excellent',\n",
       " 36: 'Average',\n",
       " 37: 'Excellent',\n",
       " 38: 'Excellent',\n",
       " 39: 'Great',\n",
       " 40: 'Excellent',\n",
       " 41: 'Great',\n",
       " 42: 'Great',\n",
       " 43: 'Great',\n",
       " 44: 'Great',\n",
       " 45: 'Excellent',\n",
       " 46: 'Excellent',\n",
       " 47: 'Great',\n",
       " 48: 'Great',\n",
       " 49: 'Great',\n",
       " 50: 'Excellent',\n",
       " 51: 'Great',\n",
       " 52: 'Poor',\n",
       " 53: 'Excellent',\n",
       " 54: 'Poor',\n",
       " 55: 'Excellent',\n",
       " 56: 'Excellent',\n",
       " 57: 'Great',\n",
       " 58: 'Excellent',\n",
       " 59: 'Great',\n",
       " 60: 'Great',\n",
       " 61: 'Great',\n",
       " 62: 'Great',\n",
       " 63: 'Excellent',\n",
       " 64: 'Great',\n",
       " 65: 'Excellent',\n",
       " 66: 'Excellent',\n",
       " 67: 'Excellent',\n",
       " 68: 'Excellent',\n",
       " 69: 'Average',\n",
       " 70: 'Excellent',\n",
       " 71: 'Great',\n",
       " 72: 'Average',\n",
       " 73: 'Excellent',\n",
       " 74: 'Bad',\n",
       " 75: 'Great',\n",
       " 76: 'Average',\n",
       " 77: 'Excellent',\n",
       " 78: 'Average',\n",
       " 79: 'Great',\n",
       " 80: 'Excellent',\n",
       " 81: 'Excellent',\n",
       " 82: 'Great',\n",
       " 83: 'Excellent',\n",
       " 84: 'Great',\n",
       " 85: 'Poor',\n",
       " 86: 'Excellent',\n",
       " 87: 'Excellent',\n",
       " 88: 'Excellent',\n",
       " 89: 'Poor',\n",
       " 90: 'Excellent',\n",
       " 91: 'Excellent',\n",
       " 92: 'Excellent',\n",
       " 93: 'Excellent',\n",
       " 94: 'Poor',\n",
       " 95: 'Average',\n",
       " 96: 'Great',\n",
       " 97: 'Excellent',\n",
       " 98: 'Excellent',\n",
       " 99: 'Bad'}"
      ]
     },
     "execution_count": 15,
     "metadata": {},
     "output_type": "execute_result"
    }
   ],
   "source": [
    "dict(zip(range(len(reviews)), sentiment))"
   ]
  },
  {
   "cell_type": "code",
   "execution_count": null,
   "metadata": {},
   "outputs": [],
   "source": []
  }
 ],
 "metadata": {
  "kernelspec": {
   "display_name": "Python 3",
   "language": "python",
   "name": "python3"
  },
  "language_info": {
   "codemirror_mode": {
    "name": "ipython",
    "version": 3
   },
   "file_extension": ".py",
   "mimetype": "text/x-python",
   "name": "python",
   "nbconvert_exporter": "python",
   "pygments_lexer": "ipython3",
   "version": "3.9.13"
  },
  "orig_nbformat": 4,
  "vscode": {
   "interpreter": {
    "hash": "0b959586048a3022a9b03147021240c378eab34ad384995e7e60563d1beff162"
   }
  }
 },
 "nbformat": 4,
 "nbformat_minor": 2
}
